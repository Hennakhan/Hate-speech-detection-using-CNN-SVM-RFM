{
 "cells": [
  {
   "cell_type": "code",
   "execution_count": 1,
   "metadata": {},
   "outputs": [
    {
     "name": "stderr",
     "output_type": "stream",
     "text": [
      "Using TensorFlow backend.\n"
     ]
    }
   ],
   "source": [
    "from __future__ import division, print_function\n",
    "import nltk\n",
    "from nltk import word_tokenize\n",
    "import pandas as pd\n",
    "from nltk.corpus import stopwords\n",
    "import string\n",
    "import sklearn\n",
    "from sklearn.model_selection import train_test_split\n",
    "from nltk.stem import WordNetLemmatizer\n",
    "import gensim \n",
    "from gensim.models import Word2Vec \n",
    "import matplotlib.pyplot as plt\n",
    "from nltk.tokenize import sent_tokenize \n",
    "import numpy as np\n",
    "from sklearn.metrics import confusion_matrix \n",
    "from sklearn.metrics import accuracy_score \n",
    "from sklearn.metrics import classification_report \n",
    "from sklearn.svm import LinearSVC\n",
    "from sklearn.feature_extraction.text import TfidfVectorizer\n",
    "from gensim import models\n",
    "from keras.callbacks import ModelCheckpoint\n",
    "from keras.layers import Dense, Dropout, Reshape, Flatten, concatenate, Input, Conv1D, GlobalMaxPooling1D, Embedding, Conv2D, GlobalMaxPooling2D\n",
    "from keras.layers.recurrent import LSTM\n",
    "from keras.models import Sequential\n",
    "from keras.preprocessing.text import Tokenizer\n",
    "from keras.preprocessing.sequence import pad_sequences\n",
    "from keras.models import Model\n",
    "from sklearn.model_selection import train_test_split\n",
    "import os\n",
    "import collections\n",
    "import re\n",
    "from sklearn.model_selection import train_test_split\n",
    "from sklearn.feature_extraction.text import CountVectorizer\n",
    "from sklearn.feature_extraction.text import TfidfTransformer\n",
    "from sklearn.ensemble import RandomForestClassifier\n",
    "from sklearn.svm import LinearSVC\n",
    "from sklearn.model_selection import cross_val_score\n",
    "import seaborn as sns \n",
    "from sklearn.model_selection import KFold"
   ]
  },
  {
   "cell_type": "code",
   "execution_count": 2,
   "metadata": {},
   "outputs": [
    {
     "data": {
      "text/html": [
       "<div>\n",
       "<style scoped>\n",
       "    .dataframe tbody tr th:only-of-type {\n",
       "        vertical-align: middle;\n",
       "    }\n",
       "\n",
       "    .dataframe tbody tr th {\n",
       "        vertical-align: top;\n",
       "    }\n",
       "\n",
       "    .dataframe thead th {\n",
       "        text-align: right;\n",
       "    }\n",
       "</style>\n",
       "<table border=\"1\" class=\"dataframe\">\n",
       "  <thead>\n",
       "    <tr style=\"text-align: right;\">\n",
       "      <th></th>\n",
       "      <th>Text</th>\n",
       "      <th>Label</th>\n",
       "    </tr>\n",
       "  </thead>\n",
       "  <tbody>\n",
       "    <tr>\n",
       "      <th>0</th>\n",
       "      <td>Tera baap bambani h .. bambani .. ambani nhi #...</td>\n",
       "      <td>CAG</td>\n",
       "    </tr>\n",
       "    <tr>\n",
       "      <th>1</th>\n",
       "      <td>Aaj wicket jane per khushi kaam ho hai.... #IN...</td>\n",
       "      <td>NAG</td>\n",
       "    </tr>\n",
       "    <tr>\n",
       "      <th>2</th>\n",
       "      <td>चौका मारकर इतना उड़ रहे हो 😳 सालों छक्का मारा त...</td>\n",
       "      <td>OAG</td>\n",
       "    </tr>\n",
       "    <tr>\n",
       "      <th>3</th>\n",
       "      <td>RT @ErVishalInsan: #BlockBusterMSG #MustWatchM...</td>\n",
       "      <td>NAG</td>\n",
       "    </tr>\n",
       "    <tr>\n",
       "      <th>4</th>\n",
       "      <td>शिट #IndvsPak</td>\n",
       "      <td>CAG</td>\n",
       "    </tr>\n",
       "  </tbody>\n",
       "</table>\n",
       "</div>"
      ],
      "text/plain": [
       "                                                Text Label\n",
       "0  Tera baap bambani h .. bambani .. ambani nhi #...   CAG\n",
       "1  Aaj wicket jane per khushi kaam ho hai.... #IN...   NAG\n",
       "2  चौका मारकर इतना उड़ रहे हो 😳 सालों छक्का मारा त...   OAG\n",
       "3  RT @ErVishalInsan: #BlockBusterMSG #MustWatchM...   NAG\n",
       "4                                      शिट #IndvsPak   CAG"
      ]
     },
     "execution_count": 2,
     "metadata": {},
     "output_type": "execute_result"
    }
   ],
   "source": [
    "df = pd.read_csv('train.csv', \n",
    "                   header = None, \n",
    "                   delimiter=',')\n",
    "df.columns = ['Text', 'Label']\n",
    "df.head()"
   ]
  },
  {
   "cell_type": "markdown",
   "metadata": {},
   "source": [
    "### Class imbalance problem"
   ]
  },
  {
   "cell_type": "code",
   "execution_count": 3,
   "metadata": {},
   "outputs": [
    {
     "data": {
      "image/png": "[encoded data removed]",
      "text/plain": [
       "<Figure size 432x288 with 1 Axes>"
      ]
     },
     "metadata": {
      "needs_background": "light"
     },
     "output_type": "display_data"
    }
   ],
   "source": [
    "import matplotlib.pyplot as plt\n",
    "fig = plt.figure(figsize=(6,4))\n",
    "df.groupby('Label').Text.count().plot.bar(ylim=0)\n",
    "plt.show()"
   ]
  },
  {
   "cell_type": "code",
   "execution_count": 4,
   "metadata": {},
   "outputs": [
    {
     "data": {
      "text/plain": [
       "NAG    837\n",
       "OAG    820\n",
       "CAG    794\n",
       "Name: Label, dtype: int64"
      ]
     },
     "execution_count": 4,
     "metadata": {},
     "output_type": "execute_result"
    }
   ],
   "source": [
    "# For entire dataset sentences for each labels \n",
    "df.Label.value_counts()"
   ]
  },
  {
   "cell_type": "markdown",
   "metadata": {},
   "source": [
    "### Solving imbalance issue"
   ]
  },
  {
   "cell_type": "code",
   "execution_count": 5,
   "metadata": {},
   "outputs": [],
   "source": [
    "from collections import Counter\n",
    "def balanceClasses(xs, ys):\n",
    "    #\"\"\"Undersample xs, ys to balance classes.\"\"\"\n",
    "    freqs = Counter(ys)\n",
    "\n",
    "    # the least common class  is the maximum number we want for all classes\n",
    "    max_allowable = (freqs.most_common()[-1][1])\n",
    "\n",
    "    num_added = {clss: 0 for clss in freqs.keys()}\n",
    "    new_ys = []\n",
    "    new_xs = []\n",
    "    for i, ym in enumerate(ys):\n",
    "        if num_added[ym] < max_allowable:\n",
    "            new_ys.append(ym)\n",
    "            new_xs.append(xs[i])\n",
    "            num_added[ym] += 1\n",
    "    return new_xs, new_ys"
   ]
  },
  {
   "cell_type": "code",
   "execution_count": 6,
   "metadata": {},
   "outputs": [],
   "source": [
    "new_text, new_label = balanceClasses(df['Text'], df['Label'])\n"
   ]
  },
  {
   "cell_type": "code",
   "execution_count": 7,
   "metadata": {},
   "outputs": [],
   "source": [
    "data = pd.DataFrame(new_text)  \n",
    "data.columns = ['Text']\n",
    "data['Label'] = new_label"
   ]
  },
  {
   "cell_type": "code",
   "execution_count": 8,
   "metadata": {},
   "outputs": [
    {
     "data": {
      "image/png": "[encoded data removed]",
      "text/plain": [
       "<Figure size 432x288 with 1 Axes>"
      ]
     },
     "metadata": {
      "needs_background": "light"
     },
     "output_type": "display_data"
    }
   ],
   "source": [
    "fig1 = plt.figure(figsize=(6,4))\n",
    "data.groupby('Label').Text.count().plot.bar(ylim=0)\n",
    "plt.show()"
   ]
  },
  {
   "cell_type": "code",
   "execution_count": 9,
   "metadata": {},
   "outputs": [
    {
     "data": {
      "text/plain": [
       "NAG    794\n",
       "CAG    794\n",
       "OAG    794\n",
       "Name: Label, dtype: int64"
      ]
     },
     "execution_count": 9,
     "metadata": {},
     "output_type": "execute_result"
    }
   ],
   "source": [
    "data.Label.value_counts()"
   ]
  },
  {
   "cell_type": "markdown",
   "metadata": {},
   "source": [
    "### Data Preprocessing"
   ]
  },
  {
   "cell_type": "code",
   "execution_count": 10,
   "metadata": {},
   "outputs": [],
   "source": [
    "# People usually join sentences using more than one colon \n",
    "def ReplaceDoubleColon(inputString):\n",
    "    return inputString.replace(\"..\", \" \") \n",
    "\n",
    "data['Text'] = data['Text'].apply(lambda x: ReplaceDoubleColon(x))\n",
    "\n",
    "def ReplaceTripleColon(inputString):\n",
    "    return inputString.replace(\"...\", \" \") \n",
    "\n",
    "data['Text'] = data['Text'].apply(lambda x: ReplaceTripleColon(x))\n",
    "\n",
    "def ReplaceFourColon(inputString):\n",
    "    return inputString.replace(\"....\", \" \") \n",
    "\n",
    "data['Text'] = data['Text'].apply(lambda x: ReplaceFourColon(x))"
   ]
  },
  {
   "cell_type": "code",
   "execution_count": 11,
   "metadata": {},
   "outputs": [],
   "source": [
    "#Removing punctuations\n",
    "data['Text'] = data['Text'].apply(lambda x:''.join([i for i in x if i not in string.punctuation]))"
   ]
  },
  {
   "cell_type": "code",
   "execution_count": 12,
   "metadata": {},
   "outputs": [],
   "source": [
    "#Remove Emoji\n",
    "def RemoveEmoji(inputString):\n",
    "    return inputString.encode('ascii', 'ignore').decode('ascii')\n",
    "\n",
    "data['Text'] = data['Text'].apply(lambda x: RemoveEmoji(x))"
   ]
  },
  {
   "cell_type": "code",
   "execution_count": 13,
   "metadata": {},
   "outputs": [],
   "source": [
    "def textPattern(text):\n",
    "\n",
    "    # Clean the text\n",
    "    text = re.sub(r\"[^A-Za-z0-9^,!.\\/'+-=]\", \" \", text)\n",
    "    text = re.sub(r\" \\n \", \" \", text)\n",
    "    text = re.sub(r\"what's\", \"what is\", text)\n",
    "    text = re.sub(r\"\\'s\", \" \", text)\n",
    "    text = re.sub(r\"\\'ve\", \"have\", text)\n",
    "    text = re.sub(r\"can't\", \"can not\", text)\n",
    "    text = re.sub(r\"aren't\", \"are not\", text)\n",
    "    text = re.sub(r\"couldn't\", \"could not\", text)\n",
    "    text = re.sub(r\"didn't\", \"did not\", text)\n",
    "    text = re.sub(r\"doesn't\", \"does not\", text)\n",
    "    text = re.sub(r\"don't\", \"do not\", text)\n",
    "    text = re.sub(r\"hadn't\", \"had not\", text)\n",
    "    text = re.sub(r\"hasn't\", \"has not\", text)\n",
    "    text = re.sub(r\"haven't\", \"have not\", text)\n",
    "    text = re.sub(r\"isn't\", \"is not\", text)\n",
    "    text = re.sub(r\"shouldn't\", \"should not\", text)\n",
    "    text = re.sub(r\"wasn't\", \"was not\", text)\n",
    "    text = re.sub(r\"weren't\", \"were not\", text)\n",
    "    text = re.sub(r\"won't\", \"will not\", text)\n",
    "    text = re.sub(r\"wouldn't\", \"would not\", text)\n",
    "    text = re.sub(r\"mustn't\", \"must not\", text)\n",
    "    text = re.sub(r\"i'm\", \"i am\", text)\n",
    "    text = re.sub(r\"\\'re\", \"are\", text)\n",
    "    text = re.sub(r\",\", \" \", text)\n",
    "    text = re.sub(r\"\\.\", \" \", text)\n",
    "    text = re.sub(r\"!\", \" \", text)\n",
    "    text = re.sub(r\"\\/\", \" \", text)\n",
    "    text = re.sub(r\"\\^\", \" ^ \", text)\n",
    "    text = re.sub(r\"\\+\", \" \", text)\n",
    "    text = re.sub(r\"\\-\", \" - \", text)\n",
    "    text = re.sub(r\"\\= =\", \" \", text)\n",
    "    text = re.sub(r\"\\==\", \" \", text)\n",
    "    text = re.sub(r\"'\", \" \", text)\n",
    "    text = re.sub(r\"(\\d+)(k)\", r\"\\g<1>000\", text)\n",
    "    text = re.sub(r\":\", \" : \", text)\n",
    "    text = re.sub(r\"\\0s\", \"0\", text)\n",
    "    text = re.sub(r\" 9 11 \", \"911\", text)\n",
    "    text = re.sub(r\"\\s{2,}\", \" \", text)\n",
    "    return text\n",
    "\n",
    "data['Text'] = data['Text'].apply(lambda x: textPattern(x))"
   ]
  },
  {
   "cell_type": "code",
   "execution_count": 14,
   "metadata": {},
   "outputs": [
    {
     "data": {
      "text/html": [
       "<div>\n",
       "<style scoped>\n",
       "    .dataframe tbody tr th:only-of-type {\n",
       "        vertical-align: middle;\n",
       "    }\n",
       "\n",
       "    .dataframe tbody tr th {\n",
       "        vertical-align: top;\n",
       "    }\n",
       "\n",
       "    .dataframe thead th {\n",
       "        text-align: right;\n",
       "    }\n",
       "</style>\n",
       "<table border=\"1\" class=\"dataframe\">\n",
       "  <thead>\n",
       "    <tr style=\"text-align: right;\">\n",
       "      <th></th>\n",
       "      <th>Text</th>\n",
       "      <th>Label</th>\n",
       "    </tr>\n",
       "  </thead>\n",
       "  <tbody>\n",
       "    <tr>\n",
       "      <th>0</th>\n",
       "      <td>Tera baap bambani h bambani ambani nhi IndvsSA</td>\n",
       "      <td>CAG</td>\n",
       "    </tr>\n",
       "    <tr>\n",
       "      <th>1</th>\n",
       "      <td>Aaj wicket jane per khushi kaam ho hai INDvsUAE</td>\n",
       "      <td>NAG</td>\n",
       "    </tr>\n",
       "    <tr>\n",
       "      <th>2</th>\n",
       "      <td>BC IndVsPak</td>\n",
       "      <td>OAG</td>\n",
       "    </tr>\n",
       "    <tr>\n",
       "      <th>3</th>\n",
       "      <td>RT ErVishalInsan BlockBusterMSG MustWatchMSG M...</td>\n",
       "      <td>NAG</td>\n",
       "    </tr>\n",
       "    <tr>\n",
       "      <th>4</th>\n",
       "      <td>IndvsPak</td>\n",
       "      <td>CAG</td>\n",
       "    </tr>\n",
       "  </tbody>\n",
       "</table>\n",
       "</div>"
      ],
      "text/plain": [
       "                                                Text Label\n",
       "0     Tera baap bambani h bambani ambani nhi IndvsSA   CAG\n",
       "1    Aaj wicket jane per khushi kaam ho hai INDvsUAE   NAG\n",
       "2                                        BC IndVsPak   OAG\n",
       "3  RT ErVishalInsan BlockBusterMSG MustWatchMSG M...   NAG\n",
       "4                                           IndvsPak   CAG"
      ]
     },
     "execution_count": 14,
     "metadata": {},
     "output_type": "execute_result"
    }
   ],
   "source": [
    "data.head(5)"
   ]
  },
  {
   "cell_type": "code",
   "execution_count": 15,
   "metadata": {},
   "outputs": [],
   "source": [
    "# Word Tokenization\n",
    "tokens = [word_tokenize(sen) for sen in data.Text]"
   ]
  },
  {
   "cell_type": "code",
   "execution_count": 16,
   "metadata": {},
   "outputs": [],
   "source": [
    "# Lower Case\n",
    "def lower_token(tokens): \n",
    "    return [w.lower() for w in tokens]    \n",
    "    \n",
    "lower_tokens = [lower_token(token) for token in tokens]"
   ]
  },
  {
   "cell_type": "code",
   "execution_count": 17,
   "metadata": {},
   "outputs": [],
   "source": [
    "# Remove Link\n",
    "\n",
    "def removeLink(token):\n",
    "    word = []\n",
    "    for w in token:\n",
    "        if not w.startswith('http'):\n",
    "            word.append(w)\n",
    "    return word \n",
    "    \n",
    "removedLink_tokens = [removeLink(token) for token in lower_tokens]"
   ]
  },
  {
   "cell_type": "code",
   "execution_count": 18,
   "metadata": {},
   "outputs": [],
   "source": [
    "# Word Lemmatization\n",
    "def lemmatization(token):\n",
    "    return [lemmatizer.lemmatize(w) for w in token] \n",
    "\n",
    "lemmatizer = WordNetLemmatizer()\n",
    "\n",
    "lemmatized_tokens = [lemmatization(token) for token in removedLink_tokens]"
   ]
  },
  {
   "cell_type": "code",
   "execution_count": 19,
   "metadata": {},
   "outputs": [],
   "source": [
    "# Removing Stopwords\n",
    "stoplist = stopwords.words('english')"
   ]
  },
  {
   "cell_type": "code",
   "execution_count": 20,
   "metadata": {},
   "outputs": [],
   "source": [
    "def removeStopWords(tokens): \n",
    "    return [word for word in tokens if word not in stoplist]\n",
    "\n",
    "filtered_words = [removeStopWords(sen) for sen in lemmatized_tokens]\n",
    "data['Text_Final'] = [' '.join(sen) for sen in filtered_words]\n",
    "data['tokens'] = filtered_words"
   ]
  },
  {
   "cell_type": "code",
   "execution_count": 21,
   "metadata": {},
   "outputs": [],
   "source": [
    "OAG  = []\n",
    "CAG = []\n",
    "NAG = []\n",
    "for l in data.Label:\n",
    "    \n",
    "    if l == 'OAG':\n",
    "        OAG.append(1)\n",
    "        CAG.append(0)\n",
    "        NAG.append(0)\n",
    "    elif l == 'CAG':\n",
    "        OAG.append(0)\n",
    "        CAG.append(1)\n",
    "        NAG.append(0)\n",
    "    elif l == 'NAG':\n",
    "        OAG.append(0)\n",
    "        CAG.append(0)\n",
    "        NAG.append(1)\n",
    "        \n",
    "data['OAG']= OAG\n",
    "data['CAG']= CAG\n",
    "data['NAG']= NAG\n",
    "\n",
    "data = data[['Text_Final', 'tokens', 'Label', 'OAG', 'CAG', 'NAG']]"
   ]
  },
  {
   "cell_type": "code",
   "execution_count": 22,
   "metadata": {},
   "outputs": [
    {
     "data": {
      "text/html": [
       "<div>\n",
       "<style scoped>\n",
       "    .dataframe tbody tr th:only-of-type {\n",
       "        vertical-align: middle;\n",
       "    }\n",
       "\n",
       "    .dataframe tbody tr th {\n",
       "        vertical-align: top;\n",
       "    }\n",
       "\n",
       "    .dataframe thead th {\n",
       "        text-align: right;\n",
       "    }\n",
       "</style>\n",
       "<table border=\"1\" class=\"dataframe\">\n",
       "  <thead>\n",
       "    <tr style=\"text-align: right;\">\n",
       "      <th></th>\n",
       "      <th>Text_Final</th>\n",
       "      <th>tokens</th>\n",
       "      <th>Label</th>\n",
       "      <th>OAG</th>\n",
       "      <th>CAG</th>\n",
       "      <th>NAG</th>\n",
       "      <th>Category_id</th>\n",
       "    </tr>\n",
       "  </thead>\n",
       "  <tbody>\n",
       "    <tr>\n",
       "      <th>0</th>\n",
       "      <td>tera baap bambani h bambani ambani nhi indvssa</td>\n",
       "      <td>[tera, baap, bambani, h, bambani, ambani, nhi,...</td>\n",
       "      <td>CAG</td>\n",
       "      <td>0</td>\n",
       "      <td>1</td>\n",
       "      <td>0</td>\n",
       "      <td>1</td>\n",
       "    </tr>\n",
       "    <tr>\n",
       "      <th>1</th>\n",
       "      <td>aaj wicket jane per khushi kaam ho hai indvsuae</td>\n",
       "      <td>[aaj, wicket, jane, per, khushi, kaam, ho, hai...</td>\n",
       "      <td>NAG</td>\n",
       "      <td>0</td>\n",
       "      <td>0</td>\n",
       "      <td>1</td>\n",
       "      <td>2</td>\n",
       "    </tr>\n",
       "    <tr>\n",
       "      <th>2</th>\n",
       "      <td>bc indvspak</td>\n",
       "      <td>[bc, indvspak]</td>\n",
       "      <td>OAG</td>\n",
       "      <td>1</td>\n",
       "      <td>0</td>\n",
       "      <td>0</td>\n",
       "      <td>0</td>\n",
       "    </tr>\n",
       "    <tr>\n",
       "      <th>3</th>\n",
       "      <td>rt ervishalinsan blockbustermsg mustwatchmsg m...</td>\n",
       "      <td>[rt, ervishalinsan, blockbustermsg, mustwatchm...</td>\n",
       "      <td>NAG</td>\n",
       "      <td>0</td>\n",
       "      <td>0</td>\n",
       "      <td>1</td>\n",
       "      <td>2</td>\n",
       "    </tr>\n",
       "    <tr>\n",
       "      <th>4</th>\n",
       "      <td>indvspak</td>\n",
       "      <td>[indvspak]</td>\n",
       "      <td>CAG</td>\n",
       "      <td>0</td>\n",
       "      <td>1</td>\n",
       "      <td>0</td>\n",
       "      <td>1</td>\n",
       "    </tr>\n",
       "  </tbody>\n",
       "</table>\n",
       "</div>"
      ],
      "text/plain": [
       "                                          Text_Final  \\\n",
       "0     tera baap bambani h bambani ambani nhi indvssa   \n",
       "1    aaj wicket jane per khushi kaam ho hai indvsuae   \n",
       "2                                        bc indvspak   \n",
       "3  rt ervishalinsan blockbustermsg mustwatchmsg m...   \n",
       "4                                           indvspak   \n",
       "\n",
       "                                              tokens Label  OAG  CAG  NAG  \\\n",
       "0  [tera, baap, bambani, h, bambani, ambani, nhi,...   CAG    0    1    0   \n",
       "1  [aaj, wicket, jane, per, khushi, kaam, ho, hai...   NAG    0    0    1   \n",
       "2                                     [bc, indvspak]   OAG    1    0    0   \n",
       "3  [rt, ervishalinsan, blockbustermsg, mustwatchm...   NAG    0    0    1   \n",
       "4                                         [indvspak]   CAG    0    1    0   \n",
       "\n",
       "  Category_id  \n",
       "0           1  \n",
       "1           2  \n",
       "2           0  \n",
       "3           2  \n",
       "4           1  "
      ]
     },
     "execution_count": 22,
     "metadata": {},
     "output_type": "execute_result"
    }
   ],
   "source": [
    "category_id = []\n",
    "for l in data.Label:\n",
    "    \n",
    "    if l == 'OAG':\n",
    "        category_id.append('0')\n",
    "    elif l == 'CAG':\n",
    "        category_id.append('1')\n",
    "    elif l == 'NAG':\n",
    "           category_id.append('2')\n",
    "        \n",
    "data['Category_id'] = category_id\n",
    "\n",
    "data = data[['Text_Final', 'tokens', 'Label', 'OAG', 'CAG', 'NAG', 'Category_id' ]]\n",
    "data.head()"
   ]
  },
  {
   "cell_type": "code",
   "execution_count": 23,
   "metadata": {},
   "outputs": [],
   "source": [
    "from io import StringIO\n",
    "category_id_df = data[['Label', 'Category_id']].drop_duplicates().sort_values('Category_id')\n",
    "category_to_label_dict = dict(category_id_df.values)\n",
    "label_to_category_dict = dict(category_id_df[['Category_id', 'Label']].values)"
   ]
  },
  {
   "cell_type": "markdown",
   "metadata": {},
   "source": [
    "#### Split Data into test and train\n",
    "We will use 90 % data for training and 20 % for testing. We use random state so every time we get the same training and testing data."
   ]
  },
  {
   "cell_type": "code",
   "execution_count": 24,
   "metadata": {},
   "outputs": [],
   "source": [
    "data_train, data_test = train_test_split(data, test_size=0.20, random_state=42)\n"
   ]
  },
  {
   "cell_type": "code",
   "execution_count": 25,
   "metadata": {},
   "outputs": [],
   "source": [
    "# # total training words\n",
    "totalTrainingWords = [word for tokens in data_train[\"tokens\"] for word in tokens]\n",
    "\n",
    "# # Storing Length of the training sentence\n",
    "lengthTrainingSentences = [len(tokens) for tokens in data_train[\"tokens\"]]\n",
    "\n",
    "# # training Vocabulary size\n",
    "trainingVocabSize = sorted(list(set(totalTrainingWords)))\n",
    "\n",
    "## Total number of lines\n",
    "linesCount = len(data_train[\"tokens\"])"
   ]
  },
  {
   "cell_type": "markdown",
   "metadata": {},
   "source": [
    "### Load Google News Word2Vec model"
   ]
  },
  {
   "cell_type": "code",
   "execution_count": 26,
   "metadata": {},
   "outputs": [],
   "source": [
    "word2vec_path = 'GoogleNews-vectors-negative300.bin'\n",
    "#word2vec_path = 'glove.6B.50d.word2vec'"
   ]
  },
  {
   "cell_type": "code",
   "execution_count": 27,
   "metadata": {},
   "outputs": [],
   "source": [
    "from gensim import models\n",
    "word2vec = models.KeyedVectors.load_word2vec_format(word2vec_path, binary=True)\n"
   ]
  },
  {
   "cell_type": "code",
   "execution_count": 28,
   "metadata": {},
   "outputs": [],
   "source": [
    "MAX_SEQUENCE_LENGTH = 50\n",
    "EMBEDDING_DIM = 300"
   ]
  },
  {
   "cell_type": "markdown",
   "metadata": {},
   "source": [
    "### Tokenize and Pad sequences"
   ]
  },
  {
   "cell_type": "code",
   "execution_count": 29,
   "metadata": {},
   "outputs": [],
   "source": [
    "from keras.preprocessing.text import Tokenizer\n",
    "from keras.preprocessing.sequence import pad_sequences"
   ]
  },
  {
   "cell_type": "code",
   "execution_count": 30,
   "metadata": {},
   "outputs": [
    {
     "name": "stdout",
     "output_type": "stream",
     "text": [
      "Found 5733 unique tokens.\n"
     ]
    }
   ],
   "source": [
    "tokenizer = Tokenizer(num_words=len(trainingVocabSize), lower=True, char_level=False)\n",
    "tokenizer.fit_on_texts(data_train[\"Text_Final\"].tolist())\n",
    "training_sequences = tokenizer.texts_to_sequences(data_train[\"Text_Final\"].tolist())\n",
    "\n",
    "train_word_index = tokenizer.word_index\n",
    "print('Found %s unique tokens.' % len(train_word_index))"
   ]
  },
  {
   "cell_type": "code",
   "execution_count": 31,
   "metadata": {},
   "outputs": [],
   "source": [
    "cnnTrainData = pad_sequences(training_sequences, maxlen=MAX_SEQUENCE_LENGTH)"
   ]
  },
  {
   "cell_type": "code",
   "execution_count": 32,
   "metadata": {},
   "outputs": [
    {
     "name": "stdout",
     "output_type": "stream",
     "text": [
      "(5734, 300)\n"
     ]
    }
   ],
   "source": [
    "train_embedding_weights = np.zeros((len(train_word_index)+1, EMBEDDING_DIM))\n",
    "for word,index in train_word_index.items():\n",
    "    train_embedding_weights[index,:] = word2vec[word] if word in word2vec else np.random.rand(EMBEDDING_DIM)\n",
    "print(train_embedding_weights.shape)"
   ]
  },
  {
   "cell_type": "code",
   "execution_count": 33,
   "metadata": {},
   "outputs": [],
   "source": [
    "test_sequences = tokenizer.texts_to_sequences(data_test[\"Text_Final\"].tolist())\n",
    "cnnTestData = pad_sequences(test_sequences, maxlen= MAX_SEQUENCE_LENGTH)"
   ]
  },
  {
   "cell_type": "markdown",
   "metadata": {},
   "source": [
    "### Define CNN"
   ]
  },
  {
   "cell_type": "markdown",
   "metadata": {},
   "source": [
    "The model is from the paper 'Convolutional Neural Networks for Sentence Classification' we have updated the network according to our requirement"
   ]
  },
  {
   "cell_type": "code",
   "execution_count": 34,
   "metadata": {},
   "outputs": [],
   "source": [
    "def ConvolutionalNeuralNet(embeddings, max_sequence_length, num_words, embedding_dim, labels_index):\n",
    "    \n",
    "    # Embedding layer\n",
    "    embedding_layer = Embedding(num_words,\n",
    "                            embedding_dim,\n",
    "                            weights=[embeddings],\n",
    "                            input_length=max_sequence_length,\n",
    "                            trainable=False)\n",
    "    \n",
    "    sequence_input = Input(shape=(max_sequence_length,), dtype='int32')\n",
    "    embedded_sequences = embedding_layer(sequence_input)\n",
    "\n",
    "    convs = []\n",
    "    \n",
    "    #Kernal (window) size\n",
    "    filter_sizes = [2,3,4,5]\n",
    "\n",
    "    # Convolution Layer and max-pooling\n",
    "    for filter_size in filter_sizes:\n",
    "        l_conv = Conv1D(filters=512, kernel_size=filter_size, activation='relu')(embedded_sequences)\n",
    "        l_pool = GlobalMaxPooling1D()(l_conv)\n",
    "        convs.append(l_pool)\n",
    "        \n",
    "    l_merge = concatenate(convs, axis=1)\n",
    "    \n",
    "    # softmax layer for multiclass identification \n",
    "    x = Dropout(0.1)(l_merge)  \n",
    "    x = Dense(512, activation='relu')(x)\n",
    "    x = Dropout(0.2)(x)\n",
    "    preds = Dense(labels_index, activation='softmax')(x)\n",
    "\n",
    "    model = Model(sequence_input, preds)\n",
    "    model.compile(loss= 'categorical_crossentropy',\n",
    "                  optimizer='adam',\n",
    "                  metrics=['accuracy'])\n",
    "   \n",
    "    model.summary()\n",
    "    return model"
   ]
  },
  {
   "cell_type": "code",
   "execution_count": 35,
   "metadata": {},
   "outputs": [],
   "source": [
    "label_names = ['OAG', 'CAG', 'NAG']"
   ]
  },
  {
   "cell_type": "code",
   "execution_count": 36,
   "metadata": {},
   "outputs": [],
   "source": [
    "# Splitting train data into X_train and y_train\n",
    "y_train = data_train[label_names].values\n",
    "x_train = cnnTrainData\n",
    "y_tr = y_train"
   ]
  },
  {
   "cell_type": "code",
   "execution_count": 37,
   "metadata": {},
   "outputs": [],
   "source": [
    "# Splitting train data into X_test and y_test\n",
    "y_test = data_test[label_names].values\n",
    "x_test = cnnTestData\n",
    "y_tst = y_test"
   ]
  },
  {
   "cell_type": "code",
   "execution_count": 38,
   "metadata": {},
   "outputs": [
    {
     "name": "stdout",
     "output_type": "stream",
     "text": [
      "Model: \"model_1\"\n",
      "__________________________________________________________________________________________________\n",
      "Layer (type)                    Output Shape         Param #     Connected to                     \n",
      "==================================================================================================\n",
      "input_1 (InputLayer)            (None, 50)           0                                            \n",
      "__________________________________________________________________________________________________\n",
      "embedding_1 (Embedding)         (None, 50, 300)      1720200     input_1[0][0]                    \n",
      "__________________________________________________________________________________________________\n",
      "conv1d_1 (Conv1D)               (None, 49, 512)      307712      embedding_1[0][0]                \n",
      "__________________________________________________________________________________________________\n",
      "conv1d_2 (Conv1D)               (None, 48, 512)      461312      embedding_1[0][0]                \n",
      "__________________________________________________________________________________________________\n",
      "conv1d_3 (Conv1D)               (None, 47, 512)      614912      embedding_1[0][0]                \n",
      "__________________________________________________________________________________________________\n",
      "conv1d_4 (Conv1D)               (None, 46, 512)      768512      embedding_1[0][0]                \n",
      "__________________________________________________________________________________________________\n",
      "global_max_pooling1d_1 (GlobalM (None, 512)          0           conv1d_1[0][0]                   \n",
      "__________________________________________________________________________________________________\n",
      "global_max_pooling1d_2 (GlobalM (None, 512)          0           conv1d_2[0][0]                   \n",
      "__________________________________________________________________________________________________\n",
      "global_max_pooling1d_3 (GlobalM (None, 512)          0           conv1d_3[0][0]                   \n",
      "__________________________________________________________________________________________________\n",
      "global_max_pooling1d_4 (GlobalM (None, 512)          0           conv1d_4[0][0]                   \n",
      "__________________________________________________________________________________________________\n",
      "concatenate_1 (Concatenate)     (None, 2048)         0           global_max_pooling1d_1[0][0]     \n",
      "                                                                 global_max_pooling1d_2[0][0]     \n",
      "                                                                 global_max_pooling1d_3[0][0]     \n",
      "                                                                 global_max_pooling1d_4[0][0]     \n",
      "__________________________________________________________________________________________________\n",
      "dropout_1 (Dropout)             (None, 2048)         0           concatenate_1[0][0]              \n",
      "__________________________________________________________________________________________________\n",
      "dense_1 (Dense)                 (None, 512)          1049088     dropout_1[0][0]                  \n",
      "__________________________________________________________________________________________________\n",
      "dropout_2 (Dropout)             (None, 512)          0           dense_1[0][0]                    \n",
      "__________________________________________________________________________________________________\n",
      "dense_2 (Dense)                 (None, 3)            1539        dropout_2[0][0]                  \n",
      "==================================================================================================\n",
      "Total params: 4,923,275\n",
      "Trainable params: 3,203,075\n",
      "Non-trainable params: 1,720,200\n",
      "__________________________________________________________________________________________________\n"
     ]
    }
   ],
   "source": [
    "model = ConvolutionalNeuralNet(train_embedding_weights, MAX_SEQUENCE_LENGTH, len(train_word_index)+1, EMBEDDING_DIM, len(list(label_names)))"
   ]
  },
  {
   "cell_type": "markdown",
   "metadata": {},
   "source": [
    "### Train CNN"
   ]
  },
  {
   "cell_type": "code",
   "execution_count": 39,
   "metadata": {},
   "outputs": [],
   "source": [
    "num_epochs = 30\n",
    "batch_size = 512"
   ]
  },
  {
   "cell_type": "code",
   "execution_count": 40,
   "metadata": {},
   "outputs": [
    {
     "name": "stdout",
     "output_type": "stream",
     "text": [
      "Train on 1714 samples, validate on 191 samples\n",
      "Epoch 1/30\n",
      "1714/1714 [==============================] - 4s 2ms/step - loss: 4.5709 - accuracy: 0.3390 - val_loss: 1.5066 - val_accuracy: 0.3089\n",
      "Epoch 2/30\n",
      "1714/1714 [==============================] - 3s 2ms/step - loss: 1.4867 - accuracy: 0.3588 - val_loss: 1.1440 - val_accuracy: 0.3665\n",
      "Epoch 3/30\n",
      "1714/1714 [==============================] - 3s 2ms/step - loss: 1.1211 - accuracy: 0.3705 - val_loss: 1.2045 - val_accuracy: 0.3194\n",
      "Epoch 4/30\n",
      "1714/1714 [==============================] - 3s 2ms/step - loss: 1.1300 - accuracy: 0.3571 - val_loss: 1.1015 - val_accuracy: 0.3141\n",
      "Epoch 5/30\n",
      "1714/1714 [==============================] - 3s 2ms/step - loss: 1.0931 - accuracy: 0.3746 - val_loss: 1.0716 - val_accuracy: 0.4241\n",
      "Epoch 6/30\n",
      "1714/1714 [==============================] - 3s 2ms/step - loss: 1.0597 - accuracy: 0.4463 - val_loss: 1.0891 - val_accuracy: 0.3979\n",
      "Epoch 7/30\n",
      "1714/1714 [==============================] - 3s 2ms/step - loss: 1.0490 - accuracy: 0.4527 - val_loss: 1.0714 - val_accuracy: 0.4084\n",
      "Epoch 8/30\n",
      "1714/1714 [==============================] - 3s 2ms/step - loss: 1.0378 - accuracy: 0.4685 - val_loss: 1.0707 - val_accuracy: 0.4084\n",
      "Epoch 9/30\n",
      "1714/1714 [==============================] - 3s 2ms/step - loss: 1.0109 - accuracy: 0.4895 - val_loss: 1.0612 - val_accuracy: 0.4084\n",
      "Epoch 10/30\n",
      "1714/1714 [==============================] - 3s 2ms/step - loss: 1.0006 - accuracy: 0.4953 - val_loss: 1.0525 - val_accuracy: 0.4450\n",
      "Epoch 11/30\n",
      "1714/1714 [==============================] - 3s 2ms/step - loss: 0.9829 - accuracy: 0.5105 - val_loss: 1.0374 - val_accuracy: 0.4555\n",
      "Epoch 12/30\n",
      "1714/1714 [==============================] - 3s 2ms/step - loss: 0.9661 - accuracy: 0.5233 - val_loss: 1.0244 - val_accuracy: 0.4346\n",
      "Epoch 13/30\n",
      "1714/1714 [==============================] - 3s 2ms/step - loss: 0.9427 - accuracy: 0.5420 - val_loss: 1.0066 - val_accuracy: 0.4607\n",
      "Epoch 14/30\n",
      "1714/1714 [==============================] - 3s 2ms/step - loss: 0.9179 - accuracy: 0.5642 - val_loss: 0.9902 - val_accuracy: 0.4869\n",
      "Epoch 15/30\n",
      "1714/1714 [==============================] - 3s 2ms/step - loss: 0.8919 - accuracy: 0.5793 - val_loss: 0.9752 - val_accuracy: 0.5288\n",
      "Epoch 16/30\n",
      "1714/1714 [==============================] - 3s 2ms/step - loss: 0.8645 - accuracy: 0.6144 - val_loss: 0.9676 - val_accuracy: 0.5183\n",
      "Epoch 17/30\n",
      "1714/1714 [==============================] - 3s 2ms/step - loss: 0.8263 - accuracy: 0.6272 - val_loss: 0.9539 - val_accuracy: 0.5236\n",
      "Epoch 18/30\n",
      "1714/1714 [==============================] - 3s 2ms/step - loss: 0.8039 - accuracy: 0.6540 - val_loss: 0.9368 - val_accuracy: 0.5340\n",
      "Epoch 19/30\n",
      "1714/1714 [==============================] - 3s 2ms/step - loss: 0.7759 - accuracy: 0.6593 - val_loss: 1.0113 - val_accuracy: 0.4974\n",
      "Epoch 20/30\n",
      "1714/1714 [==============================] - 3s 2ms/step - loss: 0.7456 - accuracy: 0.6826 - val_loss: 0.9257 - val_accuracy: 0.5340\n",
      "Epoch 21/30\n",
      "1714/1714 [==============================] - 3s 2ms/step - loss: 0.7144 - accuracy: 0.7124 - val_loss: 0.9164 - val_accuracy: 0.5288\n",
      "Epoch 22/30\n",
      "1714/1714 [==============================] - 3s 2ms/step - loss: 0.6616 - accuracy: 0.7474 - val_loss: 0.9200 - val_accuracy: 0.5707\n",
      "Epoch 23/30\n",
      "1714/1714 [==============================] - 3s 2ms/step - loss: 0.6239 - accuracy: 0.7789 - val_loss: 0.9147 - val_accuracy: 0.5707\n",
      "Epoch 24/30\n",
      "1714/1714 [==============================] - 3s 2ms/step - loss: 0.5905 - accuracy: 0.7835 - val_loss: 0.9119 - val_accuracy: 0.5602\n",
      "Epoch 25/30\n",
      "1714/1714 [==============================] - 3s 2ms/step - loss: 0.5518 - accuracy: 0.8186 - val_loss: 0.9124 - val_accuracy: 0.5497\n",
      "Epoch 26/30\n",
      "1714/1714 [==============================] - 3s 2ms/step - loss: 0.5207 - accuracy: 0.8291 - val_loss: 0.9168 - val_accuracy: 0.5969\n",
      "Epoch 27/30\n",
      "1714/1714 [==============================] - 3s 2ms/step - loss: 0.4925 - accuracy: 0.8396 - val_loss: 0.9259 - val_accuracy: 0.5759\n",
      "Epoch 28/30\n",
      "1714/1714 [==============================] - 3s 2ms/step - loss: 0.4580 - accuracy: 0.8501 - val_loss: 0.9650 - val_accuracy: 0.5497\n",
      "Epoch 29/30\n",
      "1714/1714 [==============================] - 3s 2ms/step - loss: 0.4192 - accuracy: 0.8722 - val_loss: 0.9445 - val_accuracy: 0.5654\n",
      "Epoch 30/30\n",
      "1714/1714 [==============================] - 3s 2ms/step - loss: 0.3972 - accuracy: 0.8693 - val_loss: 0.9707 - val_accuracy: 0.5497\n"
     ]
    }
   ],
   "source": [
    "history = model.fit(x_train, y_tr, epochs=num_epochs, validation_split=0.1, shuffle=True, batch_size=batch_size)"
   ]
  },
  {
   "cell_type": "code",
   "execution_count": 41,
   "metadata": {},
   "outputs": [
    {
     "name": "stdout",
     "output_type": "stream",
     "text": [
      "477/477 [==============================] - 0s 729us/step\n"
     ]
    }
   ],
   "source": [
    "predictions = model.predict(cnnTestData, batch_size=1024, verbose=1)"
   ]
  },
  {
   "cell_type": "code",
   "execution_count": 42,
   "metadata": {},
   "outputs": [],
   "source": [
    "labels = ['OAG', 'CAG', 'NAG']"
   ]
  },
  {
   "cell_type": "code",
   "execution_count": 43,
   "metadata": {},
   "outputs": [],
   "source": [
    "prediction_labels=[]\n",
    "for p in predictions:\n",
    "    prediction_labels.append(labels[np.argmax(p)])"
   ]
  },
  {
   "cell_type": "code",
   "execution_count": 44,
   "metadata": {},
   "outputs": [
    {
     "data": {
      "text/plain": [
       "0.5387840670859538"
      ]
     },
     "execution_count": 44,
     "metadata": {},
     "output_type": "execute_result"
    }
   ],
   "source": [
    "sum(data_test.Label==prediction_labels)/len(prediction_labels)"
   ]
  },
  {
   "cell_type": "code",
   "execution_count": 45,
   "metadata": {},
   "outputs": [
    {
     "data": {
      "text/plain": [
       "OAG    178\n",
       "NAG    159\n",
       "CAG    140\n",
       "Name: Label, dtype: int64"
      ]
     },
     "execution_count": 45,
     "metadata": {},
     "output_type": "execute_result"
    }
   ],
   "source": [
    "data_test.Label.value_counts()"
   ]
  },
  {
   "cell_type": "code",
   "execution_count": 46,
   "metadata": {},
   "outputs": [
    {
     "data": {
      "image/png": "[encoded data removed]",
      "text/plain": [
       "<Figure size 432x288 with 2 Axes>"
      ]
     },
     "metadata": {
      "needs_background": "light"
     },
     "output_type": "display_data"
    }
   ],
   "source": [
    "plt.figure(1)\n",
    "# summarize history for accuracy\n",
    "plt.subplot(211)\n",
    "plt.plot(history.history['accuracy'])\n",
    "plt.plot(history.history['val_accuracy'])\n",
    "plt.title('model accuracy')\n",
    "plt.ylabel('accuracy')\n",
    "plt.xlabel('epoch')\n",
    "plt.legend(['train', 'val'], loc='upper left')\n",
    "# summarize history for loss\n",
    "plt.subplot(212)\n",
    "plt.plot(history.history['loss'])\n",
    "plt.plot(history.history['val_loss'])\n",
    "plt.title('model loss')\n",
    "plt.ylabel('loss')\n",
    "plt.xlabel('epoch')\n",
    "plt.legend(['train', 'val'], loc='upper left')\n",
    "plt.tight_layout()\n",
    "plt.show()"
   ]
  },
  {
   "cell_type": "code",
   "execution_count": 47,
   "metadata": {},
   "outputs": [
    {
     "name": "stdout",
     "output_type": "stream",
     "text": [
      "Confusion Matrix :\n",
      "[[ 33  31  76]\n",
      " [ 18 111  30]\n",
      " [ 30  35 113]]\n",
      "Accuracy Score : 0.5387840670859538\n",
      "Report : \n",
      "              precision    recall  f1-score   support\n",
      "\n",
      "         CAG       0.41      0.24      0.30       140\n",
      "         NAG       0.63      0.70      0.66       159\n",
      "         OAG       0.52      0.63      0.57       178\n",
      "\n",
      "    accuracy                           0.54       477\n",
      "   macro avg       0.52      0.52      0.51       477\n",
      "weighted avg       0.52      0.54      0.52       477\n",
      "\n"
     ]
    }
   ],
   "source": [
    "results = confusion_matrix(data_test.Label, prediction_labels)\n",
    "print ('Confusion Matrix :')\n",
    "print(results) \n",
    "print ('Accuracy Score :',accuracy_score(data_test.Label, prediction_labels))\n",
    "print ('Report : ')\n",
    "print (classification_report(data_test.Label, prediction_labels))"
   ]
  },
  {
   "cell_type": "code",
   "execution_count": 48,
   "metadata": {},
   "outputs": [
    {
     "name": "stdout",
     "output_type": "stream",
     "text": [
      "                        Convolution Neural Network\n"
     ]
    },
    {
     "data": {
      "image/png": "[encoded data removed]",
      "text/plain": [
       "<Figure size 720x720 with 2 Axes>"
      ]
     },
     "metadata": {
      "needs_background": "light"
     },
     "output_type": "display_data"
    }
   ],
   "source": [
    "from sklearn.metrics import confusion_matrix\n",
    "print(\"                        Convolution Neural Network\")\n",
    "conf_mat = confusion_matrix(data_test.Label, prediction_labels)\n",
    "fig, ax = plt.subplots(figsize=(10,10))\n",
    "sns.heatmap(conf_mat, annot=True, fmt='d',\n",
    "            xticklabels=category_id_df.Label.values, yticklabels=category_id_df.Label.values)\n",
    "plt.ylabel('Actual')\n",
    "plt.xlabel('Predicted')\n",
    "plt.show()"
   ]
  },
  {
   "cell_type": "markdown",
   "metadata": {},
   "source": [
    "### Testing CNN using KFold cross validation"
   ]
  },
  {
   "cell_type": "code",
   "execution_count": 70,
   "metadata": {},
   "outputs": [
    {
     "name": "stdout",
     "output_type": "stream",
     "text": [
      "Model: \"model_12\"\n",
      "__________________________________________________________________________________________________\n",
      "Layer (type)                    Output Shape         Param #     Connected to                     \n",
      "==================================================================================================\n",
      "input_12 (InputLayer)           (None, 50)           0                                            \n",
      "__________________________________________________________________________________________________\n",
      "embedding_12 (Embedding)        (None, 50, 300)      1701900     input_12[0][0]                   \n",
      "__________________________________________________________________________________________________\n",
      "conv1d_45 (Conv1D)              (None, 49, 512)      307712      embedding_12[0][0]               \n",
      "__________________________________________________________________________________________________\n",
      "conv1d_46 (Conv1D)              (None, 48, 512)      461312      embedding_12[0][0]               \n",
      "__________________________________________________________________________________________________\n",
      "conv1d_47 (Conv1D)              (None, 47, 512)      614912      embedding_12[0][0]               \n",
      "__________________________________________________________________________________________________\n",
      "conv1d_48 (Conv1D)              (None, 46, 512)      768512      embedding_12[0][0]               \n",
      "__________________________________________________________________________________________________\n",
      "global_max_pooling1d_45 (Global (None, 512)          0           conv1d_45[0][0]                  \n",
      "__________________________________________________________________________________________________\n",
      "global_max_pooling1d_46 (Global (None, 512)          0           conv1d_46[0][0]                  \n",
      "__________________________________________________________________________________________________\n",
      "global_max_pooling1d_47 (Global (None, 512)          0           conv1d_47[0][0]                  \n",
      "__________________________________________________________________________________________________\n",
      "global_max_pooling1d_48 (Global (None, 512)          0           conv1d_48[0][0]                  \n",
      "__________________________________________________________________________________________________\n",
      "concatenate_12 (Concatenate)    (None, 2048)         0           global_max_pooling1d_45[0][0]    \n",
      "                                                                 global_max_pooling1d_46[0][0]    \n",
      "                                                                 global_max_pooling1d_47[0][0]    \n",
      "                                                                 global_max_pooling1d_48[0][0]    \n",
      "__________________________________________________________________________________________________\n",
      "dropout_23 (Dropout)            (None, 2048)         0           concatenate_12[0][0]             \n",
      "__________________________________________________________________________________________________\n",
      "dense_23 (Dense)                (None, 512)          1049088     dropout_23[0][0]                 \n",
      "__________________________________________________________________________________________________\n",
      "dropout_24 (Dropout)            (None, 512)          0           dense_23[0][0]                   \n",
      "__________________________________________________________________________________________________\n",
      "dense_24 (Dense)                (None, 3)            1539        dropout_24[0][0]                 \n",
      "==================================================================================================\n",
      "Total params: 4,904,975\n",
      "Trainable params: 3,203,075\n",
      "Non-trainable params: 1,701,900\n",
      "__________________________________________________________________________________________________\n",
      "Model: \"model_13\"\n",
      "__________________________________________________________________________________________________\n",
      "Layer (type)                    Output Shape         Param #     Connected to                     \n",
      "==================================================================================================\n",
      "input_13 (InputLayer)           (None, 50)           0                                            \n",
      "__________________________________________________________________________________________________\n",
      "embedding_13 (Embedding)        (None, 50, 300)      1722900     input_13[0][0]                   \n",
      "__________________________________________________________________________________________________\n",
      "conv1d_49 (Conv1D)              (None, 49, 512)      307712      embedding_13[0][0]               \n",
      "__________________________________________________________________________________________________\n",
      "conv1d_50 (Conv1D)              (None, 48, 512)      461312      embedding_13[0][0]               \n",
      "__________________________________________________________________________________________________\n",
      "conv1d_51 (Conv1D)              (None, 47, 512)      614912      embedding_13[0][0]               \n",
      "__________________________________________________________________________________________________\n",
      "conv1d_52 (Conv1D)              (None, 46, 512)      768512      embedding_13[0][0]               \n",
      "__________________________________________________________________________________________________\n",
      "global_max_pooling1d_49 (Global (None, 512)          0           conv1d_49[0][0]                  \n",
      "__________________________________________________________________________________________________\n",
      "global_max_pooling1d_50 (Global (None, 512)          0           conv1d_50[0][0]                  \n",
      "__________________________________________________________________________________________________\n",
      "global_max_pooling1d_51 (Global (None, 512)          0           conv1d_51[0][0]                  \n",
      "__________________________________________________________________________________________________\n",
      "global_max_pooling1d_52 (Global (None, 512)          0           conv1d_52[0][0]                  \n",
      "__________________________________________________________________________________________________\n",
      "concatenate_13 (Concatenate)    (None, 2048)         0           global_max_pooling1d_49[0][0]    \n",
      "                                                                 global_max_pooling1d_50[0][0]    \n",
      "                                                                 global_max_pooling1d_51[0][0]    \n",
      "                                                                 global_max_pooling1d_52[0][0]    \n",
      "__________________________________________________________________________________________________\n",
      "dropout_25 (Dropout)            (None, 2048)         0           concatenate_13[0][0]             \n",
      "__________________________________________________________________________________________________\n",
      "dense_25 (Dense)                (None, 512)          1049088     dropout_25[0][0]                 \n",
      "__________________________________________________________________________________________________\n",
      "dropout_26 (Dropout)            (None, 512)          0           dense_25[0][0]                   \n",
      "__________________________________________________________________________________________________\n",
      "dense_26 (Dense)                (None, 3)            1539        dropout_26[0][0]                 \n",
      "==================================================================================================\n",
      "Total params: 4,925,975\n",
      "Trainable params: 3,203,075\n",
      "Non-trainable params: 1,722,900\n",
      "__________________________________________________________________________________________________\n",
      "Model: \"model_14\"\n",
      "__________________________________________________________________________________________________\n",
      "Layer (type)                    Output Shape         Param #     Connected to                     \n",
      "==================================================================================================\n",
      "input_14 (InputLayer)           (None, 50)           0                                            \n",
      "__________________________________________________________________________________________________\n",
      "embedding_14 (Embedding)        (None, 50, 300)      1692600     input_14[0][0]                   \n",
      "__________________________________________________________________________________________________\n",
      "conv1d_53 (Conv1D)              (None, 49, 512)      307712      embedding_14[0][0]               \n",
      "__________________________________________________________________________________________________\n",
      "conv1d_54 (Conv1D)              (None, 48, 512)      461312      embedding_14[0][0]               \n",
      "__________________________________________________________________________________________________\n",
      "conv1d_55 (Conv1D)              (None, 47, 512)      614912      embedding_14[0][0]               \n",
      "__________________________________________________________________________________________________\n",
      "conv1d_56 (Conv1D)              (None, 46, 512)      768512      embedding_14[0][0]               \n",
      "__________________________________________________________________________________________________\n",
      "global_max_pooling1d_53 (Global (None, 512)          0           conv1d_53[0][0]                  \n",
      "__________________________________________________________________________________________________\n",
      "global_max_pooling1d_54 (Global (None, 512)          0           conv1d_54[0][0]                  \n",
      "__________________________________________________________________________________________________\n",
      "global_max_pooling1d_55 (Global (None, 512)          0           conv1d_55[0][0]                  \n",
      "__________________________________________________________________________________________________\n",
      "global_max_pooling1d_56 (Global (None, 512)          0           conv1d_56[0][0]                  \n",
      "__________________________________________________________________________________________________\n",
      "concatenate_14 (Concatenate)    (None, 2048)         0           global_max_pooling1d_53[0][0]    \n",
      "                                                                 global_max_pooling1d_54[0][0]    \n",
      "                                                                 global_max_pooling1d_55[0][0]    \n",
      "                                                                 global_max_pooling1d_56[0][0]    \n",
      "__________________________________________________________________________________________________\n",
      "dropout_27 (Dropout)            (None, 2048)         0           concatenate_14[0][0]             \n",
      "__________________________________________________________________________________________________\n",
      "dense_27 (Dense)                (None, 512)          1049088     dropout_27[0][0]                 \n",
      "__________________________________________________________________________________________________\n",
      "dropout_28 (Dropout)            (None, 512)          0           dense_27[0][0]                   \n",
      "__________________________________________________________________________________________________\n",
      "dense_28 (Dense)                (None, 3)            1539        dropout_28[0][0]                 \n",
      "==================================================================================================\n",
      "Total params: 4,895,675\n",
      "Trainable params: 3,203,075\n",
      "Non-trainable params: 1,692,600\n",
      "__________________________________________________________________________________________________\n",
      "Model: \"model_15\"\n",
      "__________________________________________________________________________________________________\n",
      "Layer (type)                    Output Shape         Param #     Connected to                     \n",
      "==================================================================================================\n",
      "input_15 (InputLayer)           (None, 50)           0                                            \n",
      "__________________________________________________________________________________________________\n",
      "embedding_15 (Embedding)        (None, 50, 300)      1711800     input_15[0][0]                   \n",
      "__________________________________________________________________________________________________\n",
      "conv1d_57 (Conv1D)              (None, 49, 512)      307712      embedding_15[0][0]               \n",
      "__________________________________________________________________________________________________\n",
      "conv1d_58 (Conv1D)              (None, 48, 512)      461312      embedding_15[0][0]               \n",
      "__________________________________________________________________________________________________\n",
      "conv1d_59 (Conv1D)              (None, 47, 512)      614912      embedding_15[0][0]               \n",
      "__________________________________________________________________________________________________\n",
      "conv1d_60 (Conv1D)              (None, 46, 512)      768512      embedding_15[0][0]               \n",
      "__________________________________________________________________________________________________\n",
      "global_max_pooling1d_57 (Global (None, 512)          0           conv1d_57[0][0]                  \n",
      "__________________________________________________________________________________________________\n",
      "global_max_pooling1d_58 (Global (None, 512)          0           conv1d_58[0][0]                  \n",
      "__________________________________________________________________________________________________\n",
      "global_max_pooling1d_59 (Global (None, 512)          0           conv1d_59[0][0]                  \n",
      "__________________________________________________________________________________________________\n",
      "global_max_pooling1d_60 (Global (None, 512)          0           conv1d_60[0][0]                  \n",
      "__________________________________________________________________________________________________\n",
      "concatenate_15 (Concatenate)    (None, 2048)         0           global_max_pooling1d_57[0][0]    \n",
      "                                                                 global_max_pooling1d_58[0][0]    \n",
      "                                                                 global_max_pooling1d_59[0][0]    \n",
      "                                                                 global_max_pooling1d_60[0][0]    \n",
      "__________________________________________________________________________________________________\n",
      "dropout_29 (Dropout)            (None, 2048)         0           concatenate_15[0][0]             \n",
      "__________________________________________________________________________________________________\n",
      "dense_29 (Dense)                (None, 512)          1049088     dropout_29[0][0]                 \n",
      "__________________________________________________________________________________________________\n",
      "dropout_30 (Dropout)            (None, 512)          0           dense_29[0][0]                   \n",
      "__________________________________________________________________________________________________\n",
      "dense_30 (Dense)                (None, 3)            1539        dropout_30[0][0]                 \n",
      "==================================================================================================\n",
      "Total params: 4,914,875\n",
      "Trainable params: 3,203,075\n",
      "Non-trainable params: 1,711,800\n",
      "__________________________________________________________________________________________________\n",
      "Model: \"model_16\"\n",
      "__________________________________________________________________________________________________\n",
      "Layer (type)                    Output Shape         Param #     Connected to                     \n",
      "==================================================================================================\n",
      "input_16 (InputLayer)           (None, 50)           0                                            \n",
      "__________________________________________________________________________________________________\n",
      "embedding_16 (Embedding)        (None, 50, 300)      1704900     input_16[0][0]                   \n",
      "__________________________________________________________________________________________________\n",
      "conv1d_61 (Conv1D)              (None, 49, 512)      307712      embedding_16[0][0]               \n",
      "__________________________________________________________________________________________________\n",
      "conv1d_62 (Conv1D)              (None, 48, 512)      461312      embedding_16[0][0]               \n",
      "__________________________________________________________________________________________________\n",
      "conv1d_63 (Conv1D)              (None, 47, 512)      614912      embedding_16[0][0]               \n",
      "__________________________________________________________________________________________________\n",
      "conv1d_64 (Conv1D)              (None, 46, 512)      768512      embedding_16[0][0]               \n",
      "__________________________________________________________________________________________________\n",
      "global_max_pooling1d_61 (Global (None, 512)          0           conv1d_61[0][0]                  \n",
      "__________________________________________________________________________________________________\n",
      "global_max_pooling1d_62 (Global (None, 512)          0           conv1d_62[0][0]                  \n",
      "__________________________________________________________________________________________________\n",
      "global_max_pooling1d_63 (Global (None, 512)          0           conv1d_63[0][0]                  \n",
      "__________________________________________________________________________________________________\n",
      "global_max_pooling1d_64 (Global (None, 512)          0           conv1d_64[0][0]                  \n",
      "__________________________________________________________________________________________________\n",
      "concatenate_16 (Concatenate)    (None, 2048)         0           global_max_pooling1d_61[0][0]    \n",
      "                                                                 global_max_pooling1d_62[0][0]    \n",
      "                                                                 global_max_pooling1d_63[0][0]    \n",
      "                                                                 global_max_pooling1d_64[0][0]    \n",
      "__________________________________________________________________________________________________\n",
      "dropout_31 (Dropout)            (None, 2048)         0           concatenate_16[0][0]             \n",
      "__________________________________________________________________________________________________\n",
      "dense_31 (Dense)                (None, 512)          1049088     dropout_31[0][0]                 \n",
      "__________________________________________________________________________________________________\n",
      "dropout_32 (Dropout)            (None, 512)          0           dense_31[0][0]                   \n",
      "__________________________________________________________________________________________________\n",
      "dense_32 (Dense)                (None, 3)            1539        dropout_32[0][0]                 \n",
      "==================================================================================================\n",
      "Total params: 4,907,975\n",
      "Trainable params: 3,203,075\n",
      "Non-trainable params: 1,704,900\n",
      "__________________________________________________________________________________________________\n",
      "Model: \"model_17\"\n",
      "__________________________________________________________________________________________________\n",
      "Layer (type)                    Output Shape         Param #     Connected to                     \n",
      "==================================================================================================\n",
      "input_17 (InputLayer)           (None, 50)           0                                            \n",
      "__________________________________________________________________________________________________\n",
      "embedding_17 (Embedding)        (None, 50, 300)      1706700     input_17[0][0]                   \n",
      "__________________________________________________________________________________________________\n",
      "conv1d_65 (Conv1D)              (None, 49, 512)      307712      embedding_17[0][0]               \n",
      "__________________________________________________________________________________________________\n",
      "conv1d_66 (Conv1D)              (None, 48, 512)      461312      embedding_17[0][0]               \n",
      "__________________________________________________________________________________________________\n",
      "conv1d_67 (Conv1D)              (None, 47, 512)      614912      embedding_17[0][0]               \n",
      "__________________________________________________________________________________________________\n",
      "conv1d_68 (Conv1D)              (None, 46, 512)      768512      embedding_17[0][0]               \n",
      "__________________________________________________________________________________________________\n",
      "global_max_pooling1d_65 (Global (None, 512)          0           conv1d_65[0][0]                  \n",
      "__________________________________________________________________________________________________\n",
      "global_max_pooling1d_66 (Global (None, 512)          0           conv1d_66[0][0]                  \n",
      "__________________________________________________________________________________________________\n",
      "global_max_pooling1d_67 (Global (None, 512)          0           conv1d_67[0][0]                  \n",
      "__________________________________________________________________________________________________\n",
      "global_max_pooling1d_68 (Global (None, 512)          0           conv1d_68[0][0]                  \n",
      "__________________________________________________________________________________________________\n",
      "concatenate_17 (Concatenate)    (None, 2048)         0           global_max_pooling1d_65[0][0]    \n",
      "                                                                 global_max_pooling1d_66[0][0]    \n",
      "                                                                 global_max_pooling1d_67[0][0]    \n",
      "                                                                 global_max_pooling1d_68[0][0]    \n",
      "__________________________________________________________________________________________________\n",
      "dropout_33 (Dropout)            (None, 2048)         0           concatenate_17[0][0]             \n",
      "__________________________________________________________________________________________________\n",
      "dense_33 (Dense)                (None, 512)          1049088     dropout_33[0][0]                 \n",
      "__________________________________________________________________________________________________\n",
      "dropout_34 (Dropout)            (None, 512)          0           dense_33[0][0]                   \n",
      "__________________________________________________________________________________________________\n",
      "dense_34 (Dense)                (None, 3)            1539        dropout_34[0][0]                 \n",
      "==================================================================================================\n",
      "Total params: 4,909,775\n",
      "Trainable params: 3,203,075\n",
      "Non-trainable params: 1,706,700\n",
      "__________________________________________________________________________________________________\n",
      "Model: \"model_18\"\n",
      "__________________________________________________________________________________________________\n",
      "Layer (type)                    Output Shape         Param #     Connected to                     \n",
      "==================================================================================================\n",
      "input_18 (InputLayer)           (None, 50)           0                                            \n",
      "__________________________________________________________________________________________________\n",
      "embedding_18 (Embedding)        (None, 50, 300)      1709700     input_18[0][0]                   \n",
      "__________________________________________________________________________________________________\n",
      "conv1d_69 (Conv1D)              (None, 49, 512)      307712      embedding_18[0][0]               \n",
      "__________________________________________________________________________________________________\n",
      "conv1d_70 (Conv1D)              (None, 48, 512)      461312      embedding_18[0][0]               \n",
      "__________________________________________________________________________________________________\n",
      "conv1d_71 (Conv1D)              (None, 47, 512)      614912      embedding_18[0][0]               \n",
      "__________________________________________________________________________________________________\n",
      "conv1d_72 (Conv1D)              (None, 46, 512)      768512      embedding_18[0][0]               \n",
      "__________________________________________________________________________________________________\n",
      "global_max_pooling1d_69 (Global (None, 512)          0           conv1d_69[0][0]                  \n",
      "__________________________________________________________________________________________________\n",
      "global_max_pooling1d_70 (Global (None, 512)          0           conv1d_70[0][0]                  \n",
      "__________________________________________________________________________________________________\n",
      "global_max_pooling1d_71 (Global (None, 512)          0           conv1d_71[0][0]                  \n",
      "__________________________________________________________________________________________________\n",
      "global_max_pooling1d_72 (Global (None, 512)          0           conv1d_72[0][0]                  \n",
      "__________________________________________________________________________________________________\n",
      "concatenate_18 (Concatenate)    (None, 2048)         0           global_max_pooling1d_69[0][0]    \n",
      "                                                                 global_max_pooling1d_70[0][0]    \n",
      "                                                                 global_max_pooling1d_71[0][0]    \n",
      "                                                                 global_max_pooling1d_72[0][0]    \n",
      "__________________________________________________________________________________________________\n",
      "dropout_35 (Dropout)            (None, 2048)         0           concatenate_18[0][0]             \n",
      "__________________________________________________________________________________________________\n",
      "dense_35 (Dense)                (None, 512)          1049088     dropout_35[0][0]                 \n",
      "__________________________________________________________________________________________________\n",
      "dropout_36 (Dropout)            (None, 512)          0           dense_35[0][0]                   \n",
      "__________________________________________________________________________________________________\n",
      "dense_36 (Dense)                (None, 3)            1539        dropout_36[0][0]                 \n",
      "==================================================================================================\n",
      "Total params: 4,912,775\n",
      "Trainable params: 3,203,075\n",
      "Non-trainable params: 1,709,700\n",
      "__________________________________________________________________________________________________\n",
      "Model: \"model_19\"\n",
      "__________________________________________________________________________________________________\n",
      "Layer (type)                    Output Shape         Param #     Connected to                     \n",
      "==================================================================================================\n",
      "input_19 (InputLayer)           (None, 50)           0                                            \n",
      "__________________________________________________________________________________________________\n",
      "embedding_19 (Embedding)        (None, 50, 300)      1693500     input_19[0][0]                   \n",
      "__________________________________________________________________________________________________\n",
      "conv1d_73 (Conv1D)              (None, 49, 512)      307712      embedding_19[0][0]               \n",
      "__________________________________________________________________________________________________\n",
      "conv1d_74 (Conv1D)              (None, 48, 512)      461312      embedding_19[0][0]               \n",
      "__________________________________________________________________________________________________\n",
      "conv1d_75 (Conv1D)              (None, 47, 512)      614912      embedding_19[0][0]               \n",
      "__________________________________________________________________________________________________\n",
      "conv1d_76 (Conv1D)              (None, 46, 512)      768512      embedding_19[0][0]               \n",
      "__________________________________________________________________________________________________\n",
      "global_max_pooling1d_73 (Global (None, 512)          0           conv1d_73[0][0]                  \n",
      "__________________________________________________________________________________________________\n",
      "global_max_pooling1d_74 (Global (None, 512)          0           conv1d_74[0][0]                  \n",
      "__________________________________________________________________________________________________\n",
      "global_max_pooling1d_75 (Global (None, 512)          0           conv1d_75[0][0]                  \n",
      "__________________________________________________________________________________________________\n",
      "global_max_pooling1d_76 (Global (None, 512)          0           conv1d_76[0][0]                  \n",
      "__________________________________________________________________________________________________\n",
      "concatenate_19 (Concatenate)    (None, 2048)         0           global_max_pooling1d_73[0][0]    \n",
      "                                                                 global_max_pooling1d_74[0][0]    \n",
      "                                                                 global_max_pooling1d_75[0][0]    \n",
      "                                                                 global_max_pooling1d_76[0][0]    \n",
      "__________________________________________________________________________________________________\n",
      "dropout_37 (Dropout)            (None, 2048)         0           concatenate_19[0][0]             \n",
      "__________________________________________________________________________________________________\n",
      "dense_37 (Dense)                (None, 512)          1049088     dropout_37[0][0]                 \n",
      "__________________________________________________________________________________________________\n",
      "dropout_38 (Dropout)            (None, 512)          0           dense_37[0][0]                   \n",
      "__________________________________________________________________________________________________\n",
      "dense_38 (Dense)                (None, 3)            1539        dropout_38[0][0]                 \n",
      "==================================================================================================\n",
      "Total params: 4,896,575\n",
      "Trainable params: 3,203,075\n",
      "Non-trainable params: 1,693,500\n",
      "__________________________________________________________________________________________________\n",
      "Model: \"model_20\"\n",
      "__________________________________________________________________________________________________\n",
      "Layer (type)                    Output Shape         Param #     Connected to                     \n",
      "==================================================================================================\n",
      "input_20 (InputLayer)           (None, 50)           0                                            \n",
      "__________________________________________________________________________________________________\n",
      "embedding_20 (Embedding)        (None, 50, 300)      1724700     input_20[0][0]                   \n",
      "__________________________________________________________________________________________________\n",
      "conv1d_77 (Conv1D)              (None, 49, 512)      307712      embedding_20[0][0]               \n",
      "__________________________________________________________________________________________________\n",
      "conv1d_78 (Conv1D)              (None, 48, 512)      461312      embedding_20[0][0]               \n",
      "__________________________________________________________________________________________________\n",
      "conv1d_79 (Conv1D)              (None, 47, 512)      614912      embedding_20[0][0]               \n",
      "__________________________________________________________________________________________________\n",
      "conv1d_80 (Conv1D)              (None, 46, 512)      768512      embedding_20[0][0]               \n",
      "__________________________________________________________________________________________________\n",
      "global_max_pooling1d_77 (Global (None, 512)          0           conv1d_77[0][0]                  \n",
      "__________________________________________________________________________________________________\n",
      "global_max_pooling1d_78 (Global (None, 512)          0           conv1d_78[0][0]                  \n",
      "__________________________________________________________________________________________________\n",
      "global_max_pooling1d_79 (Global (None, 512)          0           conv1d_79[0][0]                  \n",
      "__________________________________________________________________________________________________\n",
      "global_max_pooling1d_80 (Global (None, 512)          0           conv1d_80[0][0]                  \n",
      "__________________________________________________________________________________________________\n",
      "concatenate_20 (Concatenate)    (None, 2048)         0           global_max_pooling1d_77[0][0]    \n",
      "                                                                 global_max_pooling1d_78[0][0]    \n",
      "                                                                 global_max_pooling1d_79[0][0]    \n",
      "                                                                 global_max_pooling1d_80[0][0]    \n",
      "__________________________________________________________________________________________________\n",
      "dropout_39 (Dropout)            (None, 2048)         0           concatenate_20[0][0]             \n",
      "__________________________________________________________________________________________________\n",
      "dense_39 (Dense)                (None, 512)          1049088     dropout_39[0][0]                 \n",
      "__________________________________________________________________________________________________\n",
      "dropout_40 (Dropout)            (None, 512)          0           dense_39[0][0]                   \n",
      "__________________________________________________________________________________________________\n",
      "dense_40 (Dense)                (None, 3)            1539        dropout_40[0][0]                 \n",
      "==================================================================================================\n",
      "Total params: 4,927,775\n",
      "Trainable params: 3,203,075\n",
      "Non-trainable params: 1,724,700\n",
      "__________________________________________________________________________________________________\n",
      "Model: \"model_21\"\n",
      "__________________________________________________________________________________________________\n",
      "Layer (type)                    Output Shape         Param #     Connected to                     \n",
      "==================================================================================================\n",
      "input_21 (InputLayer)           (None, 50)           0                                            \n",
      "__________________________________________________________________________________________________\n",
      "embedding_21 (Embedding)        (None, 50, 300)      1691100     input_21[0][0]                   \n",
      "__________________________________________________________________________________________________\n",
      "conv1d_81 (Conv1D)              (None, 49, 512)      307712      embedding_21[0][0]               \n",
      "__________________________________________________________________________________________________\n",
      "conv1d_82 (Conv1D)              (None, 48, 512)      461312      embedding_21[0][0]               \n",
      "__________________________________________________________________________________________________\n",
      "conv1d_83 (Conv1D)              (None, 47, 512)      614912      embedding_21[0][0]               \n",
      "__________________________________________________________________________________________________\n",
      "conv1d_84 (Conv1D)              (None, 46, 512)      768512      embedding_21[0][0]               \n",
      "__________________________________________________________________________________________________\n",
      "global_max_pooling1d_81 (Global (None, 512)          0           conv1d_81[0][0]                  \n",
      "__________________________________________________________________________________________________\n",
      "global_max_pooling1d_82 (Global (None, 512)          0           conv1d_82[0][0]                  \n",
      "__________________________________________________________________________________________________\n",
      "global_max_pooling1d_83 (Global (None, 512)          0           conv1d_83[0][0]                  \n",
      "__________________________________________________________________________________________________\n",
      "global_max_pooling1d_84 (Global (None, 512)          0           conv1d_84[0][0]                  \n",
      "__________________________________________________________________________________________________\n",
      "concatenate_21 (Concatenate)    (None, 2048)         0           global_max_pooling1d_81[0][0]    \n",
      "                                                                 global_max_pooling1d_82[0][0]    \n",
      "                                                                 global_max_pooling1d_83[0][0]    \n",
      "                                                                 global_max_pooling1d_84[0][0]    \n",
      "__________________________________________________________________________________________________\n",
      "dropout_41 (Dropout)            (None, 2048)         0           concatenate_21[0][0]             \n",
      "__________________________________________________________________________________________________\n",
      "dense_41 (Dense)                (None, 512)          1049088     dropout_41[0][0]                 \n",
      "__________________________________________________________________________________________________\n",
      "dropout_42 (Dropout)            (None, 512)          0           dense_41[0][0]                   \n",
      "__________________________________________________________________________________________________\n",
      "dense_42 (Dense)                (None, 3)            1539        dropout_42[0][0]                 \n",
      "==================================================================================================\n",
      "Total params: 4,894,175\n",
      "Trainable params: 3,203,075\n",
      "Non-trainable params: 1,691,100\n",
      "__________________________________________________________________________________________________\n"
     ]
    }
   ],
   "source": [
    "from sklearn.model_selection import StratifiedKFold\n",
    "from scipy.stats import zscore\n",
    "from sklearn import metrics\n",
    "\n",
    "f_score=[]\n",
    "fold = 10\n",
    "label_names = ['OAG', 'CAG', 'NAG']\n",
    "num_epochs = 35\n",
    "batch_size = 512\n",
    "oos_y = []\n",
    "oos_pred = []\n",
    "#for train, test in kf.split(data[\"tokens\"], data['Label']):\n",
    "for i in range(fold):\n",
    "    data_train, data_test = train_test_split(data, test_size=0.20, random_state = np.random.randint(1,100, 1)[0])\n",
    "\n",
    "    # # total training words\n",
    "    totalTrainingWords = [word for tokens in data_train[\"tokens\"] for word in tokens]\n",
    "\n",
    "    # # Storing Length of the training sentence\n",
    "    lengthTrainingSentences = [len(tokens) for tokens in data_train[\"tokens\"]]\n",
    "\n",
    "    # # training Vocabulary size\n",
    "    trainingVocabSize = sorted(list(set(totalTrainingWords)))\n",
    "\n",
    "    ## Total number of lines\n",
    "    linesCount = len(data_train[\"tokens\"])\n",
    "    \n",
    "    tokenizer = Tokenizer(num_words=len(trainingVocabSize), lower=True, char_level=False)\n",
    "    tokenizer.fit_on_texts(data_train[\"Text_Final\"].tolist())\n",
    "    training_sequences = tokenizer.texts_to_sequences(data_train[\"Text_Final\"].tolist())\n",
    "\n",
    "    train_word_index = tokenizer.word_index\n",
    "    cnnTrainData = pad_sequences(training_sequences, maxlen=MAX_SEQUENCE_LENGTH)\n",
    "    \n",
    "    train_embedding_weights = np.zeros((len(train_word_index)+1, EMBEDDING_DIM))\n",
    "    \n",
    "    for word,index in train_word_index.items():\n",
    "        train_embedding_weights[index,:] = word2vec[word] if word in word2vec else np.random.rand(EMBEDDING_DIM)\n",
    "        \n",
    "    test_sequences = tokenizer.texts_to_sequences(data_test[\"Text_Final\"].tolist())\n",
    "    cnnTestData = pad_sequences(test_sequences, maxlen= MAX_SEQUENCE_LENGTH)\n",
    "    \n",
    "    # Splitting train data into X_train and y_train\n",
    "    y_train = data_train[label_names].values\n",
    "    x_train = cnnTrainData\n",
    "    y_tr = y_train\n",
    "    \n",
    "    # Splitting train data into X_test and y_test\n",
    "    y_test = data_test[label_names].values\n",
    "    x_test = cnnTestData\n",
    "    y_tst = y_test\n",
    "    \n",
    "    model = ConvolutionalNeuralNet(train_embedding_weights, MAX_SEQUENCE_LENGTH, len(train_word_index)+1, EMBEDDING_DIM, len(list(label_names)))\n",
    "    history = model.fit(x_train, y_tr, epochs=num_epochs, validation_split=0.1, shuffle=True, batch_size=batch_size, verbose = 0)\n",
    "    predictions = model.predict(cnnTestData, batch_size=1024, verbose=0)\n",
    "    oos_y.append(y_test)\n",
    "    oos_pred.append(predictions)\n",
    "    score = np.sqrt(metrics.mean_squared_error(predictions, y_test))\n",
    "    f_score.append(score) "
   ]
  },
  {
   "cell_type": "code",
   "execution_count": 71,
   "metadata": {},
   "outputs": [],
   "source": [
    "oos_y = np.concatenate(oos_y)\n",
    "oos_pred = np.concatenate(oos_pred)"
   ]
  },
  {
   "cell_type": "code",
   "execution_count": 72,
   "metadata": {},
   "outputs": [
    {
     "name": "stdout",
     "output_type": "stream",
     "text": [
      "1 Fold Score:  0.45965718749972223\n",
      "2 Fold Score:  0.44983873986829226\n",
      "3 Fold Score:  0.43809132133317885\n",
      "4 Fold Score:  0.4422919255890325\n",
      "5 Fold Score:  0.4522255937239589\n",
      "6 Fold Score:  0.44904654377208464\n",
      "7 Fold Score:  0.43662119648916675\n",
      "8 Fold Score:  0.46631039252771456\n",
      "9 Fold Score:  0.46831195995244684\n",
      "10 Fold Score:  0.4685701862105073\n",
      " Average Accuracy : 0.45324321549369434\n"
     ]
    }
   ],
   "source": [
    "\n",
    "score = np.sqrt(metrics.mean_squared_error(oos_pred, oos_y))\n",
    "for i in range(fold):\n",
    "    print((i+1), \"Fold Score: \", f_score[i])\n",
    "\n",
    "print(f\" Average Accuracy : {score}\" )"
   ]
  },
  {
   "cell_type": "markdown",
   "metadata": {},
   "source": [
    "# Support Vector Method (SVM) and Random Forest Method (RFM)"
   ]
  },
  {
   "cell_type": "markdown",
   "metadata": {},
   "source": [
    "### Generating features using TF-IDF Vectorizer method"
   ]
  },
  {
   "cell_type": "code",
   "execution_count": 52,
   "metadata": {},
   "outputs": [
    {
     "data": {
      "text/plain": [
       "(2382, 3534)"
      ]
     },
     "execution_count": 52,
     "metadata": {},
     "output_type": "execute_result"
    }
   ],
   "source": [
    "vectorizer = TfidfVectorizer(sublinear_tf=True, min_df=2, norm='l2', encoding='latin-1', ngram_range=(1, 3), stop_words='english')\n",
    "features = vectorizer.fit_transform(data.Text_Final).toarray()\n",
    "labels = data.Label\n",
    "features.shape"
   ]
  },
  {
   "cell_type": "markdown",
   "metadata": {},
   "source": [
    "Now, each of 10257 comment (text row) is represented by 22312 features\n",
    "representing the tf-idf score for different unigrams, bigrams and trigrams."
   ]
  },
  {
   "cell_type": "markdown",
   "metadata": {},
   "source": [
    "### Testing SVM and RFM models using K-fold cross validation\n"
   ]
  },
  {
   "cell_type": "code",
   "execution_count": 53,
   "metadata": {},
   "outputs": [],
   "source": [
    "\n",
    "# Creating two model and storing their accuracies\n",
    "models = [LinearSVC(), RandomForestClassifier(n_estimators=200, max_depth=3, random_state=42)]\n",
    "\n",
    "# KFold cross-validation\n",
    "kFold = 10\n",
    "entries = []\n",
    "for model in models:\n",
    "    model_name = model.__class__.__name__\n",
    "    \n",
    "    #To get accuracy of the model for 10 different splits\n",
    "    scoreValue = cross_val_score(model, features, labels, scoring='accuracy', cv= kFold)\n",
    "    \n",
    "    # append name and score of each model with different splits\n",
    "    for fold_idx, accuracy in enumerate(scoreValue):\n",
    "        entries.append((model_name, fold_idx, accuracy))\n"
   ]
  },
  {
   "cell_type": "code",
   "execution_count": 54,
   "metadata": {},
   "outputs": [],
   "source": [
    "#generating  a dataframe to store model and their different accuracies\n",
    "model_df = pd.DataFrame(index=range(kFold * len(models)))\n",
    "\n",
    "# Storing in Dataframe with column name\n",
    "model_df = pd.DataFrame(entries, columns=['model_name', 'fold_idx', 'accuracy'])"
   ]
  },
  {
   "cell_type": "code",
   "execution_count": 55,
   "metadata": {},
   "outputs": [
    {
     "data": {
      "text/plain": [
       "model_name\n",
       "LinearSVC                 0.534471\n",
       "RandomForestClassifier    0.536171\n",
       "Name: accuracy, dtype: float64"
      ]
     },
     "execution_count": 55,
     "metadata": {},
     "output_type": "execute_result"
    }
   ],
   "source": [
    "# average of all the K-fold accuracies\n",
    "model_df.groupby('model_name').accuracy.mean()"
   ]
  },
  {
   "cell_type": "code",
   "execution_count": 56,
   "metadata": {},
   "outputs": [],
   "source": [
    "### Spliting data having similar split as CNN"
   ]
  },
  {
   "cell_type": "code",
   "execution_count": 57,
   "metadata": {},
   "outputs": [],
   "source": [
    "# Using similar split as CNN model\n",
    "X_train, X_test, y_train, y_test, idx_train, idx_test = train_test_split(features, labels, data.index, test_size=0.20, random_state=42)"
   ]
  },
  {
   "cell_type": "markdown",
   "metadata": {},
   "source": [
    "### SVM - Generating model "
   ]
  },
  {
   "cell_type": "code",
   "execution_count": 58,
   "metadata": {},
   "outputs": [],
   "source": [
    "# generate Linear SVM model\n",
    "model = LinearSVC()\n",
    "clf = model.fit(X_train, y_train)\n",
    "y_pred = model.predict(X_test)"
   ]
  },
  {
   "cell_type": "markdown",
   "metadata": {},
   "source": [
    "### SVM - Showing some prediction"
   ]
  },
  {
   "cell_type": "code",
   "execution_count": 59,
   "metadata": {},
   "outputs": [
    {
     "name": "stdout",
     "output_type": "stream",
     "text": [
      "['NAG']\n"
     ]
    }
   ],
   "source": [
    "print(clf.predict(vectorizer.transform([\"Modi ho ya Manmohan singh saala yeh log kuch ny karta hai sirf vote ka lia 56 ka seena dikahata hai\"])))"
   ]
  },
  {
   "cell_type": "code",
   "execution_count": 60,
   "metadata": {},
   "outputs": [
    {
     "name": "stdout",
     "output_type": "stream",
     "text": [
      "['NAG']\n"
     ]
    }
   ],
   "source": [
    "print(clf.predict(vectorizer.transform([\"i am micro investor, need advise on adding stocks on monthly basis !\"])))"
   ]
  },
  {
   "cell_type": "code",
   "execution_count": 61,
   "metadata": {},
   "outputs": [
    {
     "name": "stdout",
     "output_type": "stream",
     "text": [
      "['NAG']\n"
     ]
    }
   ],
   "source": [
    "print(clf.predict(vectorizer.transform([\"These media fellows have time to dissect one's social media profile,but none of spineless jokers has the guts to question as to why and how a convict like Lalu Yadav is roaming outside and running a Government.\"])))"
   ]
  },
  {
   "cell_type": "markdown",
   "metadata": {},
   "source": [
    "###  SVM - Displaying false-positive rate (FPR) and true positive rate (TPR)"
   ]
  },
  {
   "cell_type": "code",
   "execution_count": 62,
   "metadata": {},
   "outputs": [
    {
     "name": "stdout",
     "output_type": "stream",
     "text": [
      "                          Support Vector Method\n"
     ]
    },
    {
     "data": {
      "image/png": "[encoded data removed]",
      "text/plain": [
       "<Figure size 720x720 with 2 Axes>"
      ]
     },
     "metadata": {
      "needs_background": "light"
     },
     "output_type": "display_data"
    }
   ],
   "source": [
    "from sklearn.metrics import confusion_matrix\n",
    "print(\"                          Support Vector Method\")\n",
    "conf_mat = confusion_matrix(y_test, y_pred)\n",
    "fig, ax = plt.subplots(figsize=(10,10))\n",
    "sns.heatmap(conf_mat, annot=True, fmt='d',\n",
    "            xticklabels=category_id_df.Label.values, yticklabels=category_id_df.Label.values)\n",
    "plt.ylabel('Actual')\n",
    "plt.xlabel('Predicted')\n",
    "plt.show()"
   ]
  },
  {
   "cell_type": "markdown",
   "metadata": {},
   "source": [
    "### SVM - Precision, Recall and F1-Score to quantify the quality of our model using a confusion matrix"
   ]
  },
  {
   "cell_type": "code",
   "execution_count": 63,
   "metadata": {},
   "outputs": [
    {
     "name": "stdout",
     "output_type": "stream",
     "text": [
      "Confusion Matrix :\n",
      "[[ 62  39  39]\n",
      " [ 30 114  15]\n",
      " [ 62  30  86]]\n",
      "Accuracy Score : 0.549266247379455\n",
      "Report : \n",
      "              precision    recall  f1-score   support\n",
      "\n",
      "         CAG       0.40      0.44      0.42       140\n",
      "         NAG       0.62      0.72      0.67       159\n",
      "         OAG       0.61      0.48      0.54       178\n",
      "\n",
      "    accuracy                           0.55       477\n",
      "   macro avg       0.55      0.55      0.54       477\n",
      "weighted avg       0.56      0.55      0.55       477\n",
      "\n"
     ]
    }
   ],
   "source": [
    "results = confusion_matrix(y_test, y_pred)\n",
    "print ('Confusion Matrix :')\n",
    "print(results) \n",
    "print ('Accuracy Score :',accuracy_score(y_test, y_pred))\n",
    "print ('Report : ')\n",
    "print (classification_report(y_test, y_pred))"
   ]
  },
  {
   "cell_type": "markdown",
   "metadata": {},
   "source": [
    "# RFM - Generate model"
   ]
  },
  {
   "cell_type": "code",
   "execution_count": 64,
   "metadata": {},
   "outputs": [],
   "source": [
    "model1 = RandomForestClassifier(n_estimators=200, max_depth=3, random_state=42)\n",
    "clf1 = model1.fit(X_train, y_train)\n",
    "y_pred1 = model1.predict(X_test)"
   ]
  },
  {
   "cell_type": "markdown",
   "metadata": {},
   "source": [
    "### RFM - Showing some prediction"
   ]
  },
  {
   "cell_type": "code",
   "execution_count": 65,
   "metadata": {},
   "outputs": [
    {
     "name": "stdout",
     "output_type": "stream",
     "text": [
      "['CAG']\n"
     ]
    }
   ],
   "source": [
    "print(clf1.predict(vectorizer.transform([\"Modi ho ya Manmohan singh saala yeh log kuch ny karta hai sirf vote ka lia 56 ka seena dikahata hai\"])))"
   ]
  },
  {
   "cell_type": "code",
   "execution_count": 66,
   "metadata": {},
   "outputs": [
    {
     "name": "stdout",
     "output_type": "stream",
     "text": [
      "['CAG']\n"
     ]
    }
   ],
   "source": [
    "print(clf1.predict(vectorizer.transform([\"i am micro investor, need advise on adding stocks on monthly basis !\"])))"
   ]
  },
  {
   "cell_type": "code",
   "execution_count": 67,
   "metadata": {},
   "outputs": [
    {
     "name": "stdout",
     "output_type": "stream",
     "text": [
      "['CAG']\n"
     ]
    }
   ],
   "source": [
    "print(clf1.predict(vectorizer.transform([\"These media fellows have time to dissect one's social media profile,but none of spineless jokers has the guts to question as to why and how a convict like Lalu Yadav is roaming outside and running a Government.\"])))"
   ]
  },
  {
   "cell_type": "markdown",
   "metadata": {},
   "source": [
    "### RFM - Displaying false-positive rate (FPR) and true positive rate (TPR)"
   ]
  },
  {
   "cell_type": "code",
   "execution_count": 68,
   "metadata": {},
   "outputs": [
    {
     "name": "stdout",
     "output_type": "stream",
     "text": [
      "                           Random Forest Method\n"
     ]
    },
    {
     "data": {
      "image/png": "[encoded data removed]",
      "text/plain": [
       "<Figure size 720x720 with 2 Axes>"
      ]
     },
     "metadata": {
      "needs_background": "light"
     },
     "output_type": "display_data"
    }
   ],
   "source": [
    "from sklearn.metrics import confusion_matrix\n",
    "print(\"                           Random Forest Method\")\n",
    "conf_mat = confusion_matrix(y_test, y_pred1)\n",
    "fig, ax = plt.subplots(figsize=(10,10))\n",
    "sns.heatmap(conf_mat, annot=True, fmt='d',\n",
    "            xticklabels=category_id_df.Label.values, yticklabels=category_id_df.Label.values)\n",
    "plt.ylabel('Actual')\n",
    "plt.xlabel('Predicted')\n",
    "plt.show()"
   ]
  },
  {
   "cell_type": "markdown",
   "metadata": {},
   "source": [
    "### RFM - Precision, Recall and F1-Score to quantify the quality of our model using a confusion matrix."
   ]
  },
  {
   "cell_type": "code",
   "execution_count": 69,
   "metadata": {},
   "outputs": [
    {
     "name": "stdout",
     "output_type": "stream",
     "text": [
      "Confusion Matrix :\n",
      "[[ 97  32  11]\n",
      " [ 52 105   2]\n",
      " [ 98  43  37]]\n",
      "Accuracy Score : 0.5010482180293501\n",
      "Report : \n",
      "              precision    recall  f1-score   support\n",
      "\n",
      "         CAG       0.39      0.69      0.50       140\n",
      "         NAG       0.58      0.66      0.62       159\n",
      "         OAG       0.74      0.21      0.32       178\n",
      "\n",
      "    accuracy                           0.50       477\n",
      "   macro avg       0.57      0.52      0.48       477\n",
      "weighted avg       0.59      0.50      0.47       477\n",
      "\n"
     ]
    }
   ],
   "source": [
    "results1 = confusion_matrix(y_test, y_pred1)\n",
    "print ('Confusion Matrix :')\n",
    "print(results1) \n",
    "print ('Accuracy Score :',accuracy_score(y_test, y_pred1))\n",
    "print ('Report : ')\n",
    "print (classification_report(y_test, y_pred1))"
   ]
  },
  {
   "cell_type": "code",
   "execution_count": null,
   "metadata": {},
   "outputs": [],
   "source": []
  },
  {
   "cell_type": "code",
   "execution_count": null,
   "metadata": {},
   "outputs": [],
   "source": []
  }
 ],
 "metadata": {
  "kernelspec": {
   "display_name": "Python 3",
   "language": "python",
   "name": "python3"
  },
  "language_info": {
   "codemirror_mode": {
    "name": "ipython",
    "version": 3
   },
   "file_extension": ".py",
   "mimetype": "text/x-python",
   "name": "python",
   "nbconvert_exporter": "python",
   "pygments_lexer": "ipython3",
   "version": "3.7.6"
  }
 },
 "nbformat": 4,
 "nbformat_minor": 4
}
